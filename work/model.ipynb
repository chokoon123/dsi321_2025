{
 "cells": [
  {
   "cell_type": "code",
   "execution_count": null,
   "id": "c8cec642",
   "metadata": {},
   "outputs": [],
   "source": [
    "import pandas as pd\n",
    "import numpy as np\n",
    "import os\n",
    "import pyarrow "
   ]
  },
  {
   "cell_type": "code",
   "execution_count": null,
   "id": "f0420aa2",
   "metadata": {},
   "outputs": [],
   "source": [
    "repo = \"air-quality\"\n",
    "branch = \"main\"\n",
    "path = \"airquality.parquet\"\n",
    "\n",
    "lakefs_s3_path = f\"s3a://{repo}/{branch}/{path}\"\n",
    "\n",
    "df = pd.read_parquet(lakefs_s3_path, engine=\"pyarrow\")\n",
    "df.head()"
   ]
  },
  {
   "cell_type": "code",
   "execution_count": null,
   "id": "a25ea10f",
   "metadata": {},
   "outputs": [],
   "source": []
  }
 ],
 "metadata": {
  "kernelspec": {
   "display_name": "Python 3",
   "language": "python",
   "name": "python3"
  },
  "language_info": {
   "name": "python",
   "version": "3.12.2"
  }
 },
 "nbformat": 4,
 "nbformat_minor": 5
}
