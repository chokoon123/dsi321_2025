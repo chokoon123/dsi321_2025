{
 "cells": [
  {
   "cell_type": "code",
   "execution_count": 1,
   "id": "674df72b",
   "metadata": {},
   "outputs": [],
   "source": [
    "import pandas as pd\n",
    "import requests\n",
    "import datetime"
   ]
  },
  {
   "cell_type": "code",
   "execution_count": 2,
   "id": "a78b5fa2",
   "metadata": {},
   "outputs": [],
   "source": [
    "WEATHER_ENDPOINT = \"https://api.openweathermap.org/data/2.5/weather\"\n",
    "API_KEY = \"31bed09c1ffc8fee3c747ede305686bc\""
   ]
  },
  {
   "cell_type": "code",
   "execution_count": 5,
   "id": "5138c758",
   "metadata": {},
   "outputs": [],
   "source": [
    "provinces = {\n",
    "    \"Chiang Mai\" :{\n",
    "        \"lat\": 18.7883,\n",
    "        \"lon\": 98.9853\n",
    "    }\n",
    "}"
   ]
  },
  {
   "cell_type": "code",
   "execution_count": 7,
   "id": "78374d7a",
   "metadata": {},
   "outputs": [],
   "source": [
    "def get_weather_data(province:str):\n",
    "    param = {\n",
    "        \"lat\": provinces[province][\"lat\"],\n",
    "        \"lon\": provinces[province][\"lon\"],\n",
    "        \"appid\": API_KEY,\n",
    "        \"units\": \"metric\"\n",
    "    }\n",
    "    try:\n",
    "        response = requests.get(WEATHER_ENDPOINT, params=param)\n",
    "        response.raise_for_status()  \n",
    "        data = response.json()\n",
    "        \n",
    "        timestamp = datetime.datetime.fromtimestamp(data['dt'])\n",
    "        \n",
    "        weather_dict = {\n",
    "            'timestamp': timestamp,\n",
    "            'year': timestamp.year,\n",
    "            'month': timestamp.month,\n",
    "            'day': timestamp.day,\n",
    "            'hour': timestamp.hour,\n",
    "            'minute': timestamp.minute,\n",
    "            'requested_province':province,\n",
    "            'location': data['name'],\n",
    "            'weather_main': data['weather'][0]['main'],\n",
    "            'weather_description': data['weather'][0]['description'],\n",
    "            'main.temp': data['main']['temp']\n",
    "        }\n",
    "                \n",
    "        return weather_dict\n",
    "    \n",
    "    except requests.exceptions.RequestException as e:\n",
    "        print(f\"Error fetching weather data: {e}\")\n",
    "        return None"
   ]
  },
  {
   "cell_type": "code",
   "execution_count": 8,
   "id": "4bf8f7c5",
   "metadata": {},
   "outputs": [
    {
     "name": "stdout",
     "output_type": "stream",
     "text": [
      "<class 'pandas.core.frame.DataFrame'>\n",
      "RangeIndex: 1 entries, 0 to 0\n",
      "Data columns (total 11 columns):\n",
      " #   Column               Non-Null Count  Dtype         \n",
      "---  ------               --------------  -----         \n",
      " 0   timestamp            1 non-null      datetime64[ns]\n",
      " 1   year                 1 non-null      int64         \n",
      " 2   month                1 non-null      int64         \n",
      " 3   day                  1 non-null      int64         \n",
      " 4   hour                 1 non-null      int64         \n",
      " 5   minute               1 non-null      int64         \n",
      " 6   requested_province   1 non-null      object        \n",
      " 7   location             1 non-null      object        \n",
      " 8   weather_main         1 non-null      object        \n",
      " 9   weather_description  1 non-null      object        \n",
      " 10  main.temp            1 non-null      float64       \n",
      "dtypes: datetime64[ns](1), float64(1), int64(5), object(4)\n",
      "memory usage: 220.0+ bytes\n"
     ]
    },
    {
     "data": {
      "application/vnd.microsoft.datawrangler.viewer.v0+json": {
       "columns": [
        {
         "name": "index",
         "rawType": "int64",
         "type": "integer"
        },
        {
         "name": "timestamp",
         "rawType": "datetime64[ns]",
         "type": "datetime"
        },
        {
         "name": "year",
         "rawType": "int64",
         "type": "integer"
        },
        {
         "name": "month",
         "rawType": "int64",
         "type": "integer"
        },
        {
         "name": "day",
         "rawType": "int64",
         "type": "integer"
        },
        {
         "name": "hour",
         "rawType": "int64",
         "type": "integer"
        },
        {
         "name": "minute",
         "rawType": "int64",
         "type": "integer"
        },
        {
         "name": "requested_province",
         "rawType": "object",
         "type": "string"
        },
        {
         "name": "location",
         "rawType": "object",
         "type": "string"
        },
        {
         "name": "weather_main",
         "rawType": "object",
         "type": "string"
        },
        {
         "name": "weather_description",
         "rawType": "object",
         "type": "string"
        },
        {
         "name": "main.temp",
         "rawType": "float64",
         "type": "float"
        }
       ],
       "conversionMethod": "pd.DataFrame",
       "ref": "31e6b851-6600-487d-a4d7-bfe0fea90ca6",
       "rows": [
        [
         "0",
         "2025-04-30 11:25:39",
         "2025",
         "4",
         "30",
         "11",
         "25",
         "Chiang Mai",
         "Chiang Mai",
         "Clouds",
         "scattered clouds",
         "30.76"
        ]
       ],
       "shape": {
        "columns": 11,
        "rows": 1
       }
      },
      "text/html": [
       "<div>\n",
       "<style scoped>\n",
       "    .dataframe tbody tr th:only-of-type {\n",
       "        vertical-align: middle;\n",
       "    }\n",
       "\n",
       "    .dataframe tbody tr th {\n",
       "        vertical-align: top;\n",
       "    }\n",
       "\n",
       "    .dataframe thead th {\n",
       "        text-align: right;\n",
       "    }\n",
       "</style>\n",
       "<table border=\"1\" class=\"dataframe\">\n",
       "  <thead>\n",
       "    <tr style=\"text-align: right;\">\n",
       "      <th></th>\n",
       "      <th>timestamp</th>\n",
       "      <th>year</th>\n",
       "      <th>month</th>\n",
       "      <th>day</th>\n",
       "      <th>hour</th>\n",
       "      <th>minute</th>\n",
       "      <th>requested_province</th>\n",
       "      <th>location</th>\n",
       "      <th>weather_main</th>\n",
       "      <th>weather_description</th>\n",
       "      <th>main.temp</th>\n",
       "    </tr>\n",
       "  </thead>\n",
       "  <tbody>\n",
       "    <tr>\n",
       "      <th>0</th>\n",
       "      <td>2025-04-30 11:25:39</td>\n",
       "      <td>2025</td>\n",
       "      <td>4</td>\n",
       "      <td>30</td>\n",
       "      <td>11</td>\n",
       "      <td>25</td>\n",
       "      <td>Chiang Mai</td>\n",
       "      <td>Chiang Mai</td>\n",
       "      <td>Clouds</td>\n",
       "      <td>scattered clouds</td>\n",
       "      <td>30.76</td>\n",
       "    </tr>\n",
       "  </tbody>\n",
       "</table>\n",
       "</div>"
      ],
      "text/plain": [
       "            timestamp  year  month  day  hour  minute requested_province  \\\n",
       "0 2025-04-30 11:25:39  2025      4   30    11      25         Chiang Mai   \n",
       "\n",
       "     location weather_main weather_description  main.temp  \n",
       "0  Chiang Mai       Clouds    scattered clouds      30.76  "
      ]
     },
     "execution_count": 8,
     "metadata": {},
     "output_type": "execute_result"
    }
   ],
   "source": [
    "df=pd.DataFrame([get_weather_data(p) for p in list(provinces.keys())])\n",
    "df.info()\n",
    "df.head()"
   ]
  },
  {
   "cell_type": "code",
   "execution_count": 13,
   "id": "33f052bb",
   "metadata": {},
   "outputs": [],
   "source": [
    "df.to_parquet(\n",
    "    'weather_data.parquet',\n",
    "    engine='pyarrow',\n",
    "    partition_cols=['year','month','day','hour']\n",
    ")"
   ]
  }
 ],
 "metadata": {
  "kernelspec": {
   "display_name": "Python 3",
   "language": "python",
   "name": "python3"
  },
  "language_info": {
   "codemirror_mode": {
    "name": "ipython",
    "version": 3
   },
   "file_extension": ".py",
   "mimetype": "text/x-python",
   "name": "python",
   "nbconvert_exporter": "python",
   "pygments_lexer": "ipython3",
   "version": "3.12.2"
  }
 },
 "nbformat": 4,
 "nbformat_minor": 5
}
